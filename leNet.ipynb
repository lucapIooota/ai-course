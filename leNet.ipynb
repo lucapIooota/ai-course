{
  "cells": [
    {
      "cell_type": "markdown",
      "metadata": {
        "id": "view-in-github",
        "colab_type": "text"
      },
      "source": [
        "<a href=\"https://colab.research.google.com/github/lucapIooota/ai-course/blob/main/leNet.ipynb\" target=\"_parent\"><img src=\"https://colab.research.google.com/assets/colab-badge.svg\" alt=\"Open In Colab\"/></a>"
      ]
    },
    {
      "cell_type": "markdown",
      "metadata": {
        "id": "a9knEDxY-0vn"
      },
      "source": [
        "# Implement LeNet\n",
        "\n",
        "Convs Block\n",
        "\n",
        "+ 5x5 Conv2D 3->6\n",
        "+ 2x2 MaxPool stride 2\n",
        "+ 5x5 Conv2D 6->16\n",
        "+ 2x2 MaxPool stride 2\n",
        "\n",
        "Linears Block\n",
        "\n",
        "+ Linear INPUT_SIZE -> 120\n",
        "+ Linear 120 -> 84\n",
        "+ Linear 84 -> OUTPUT SIZE"
      ]
    },
    {
      "cell_type": "code",
      "execution_count": null,
      "metadata": {
        "id": "YSlZ7JRGpTop"
      },
      "outputs": [],
      "source": [
        "import torch\n",
        "import torch.nn as nn\n",
        "import torch.nn.functional as F\n",
        "import torchvision\n",
        "import torchvision.transforms as transforms\n",
        "\n",
        "import numpy as np\n",
        "import matplotlib.pyplot as plt\n",
        "from tqdm.notebook import tqdm"
      ]
    },
    {
      "cell_type": "code",
      "execution_count": null,
      "metadata": {
        "id": "By6XoRQyL_bN"
      },
      "outputs": [],
      "source": [
        "class LeNet(nn.Module):\n",
        "\n",
        "    def __init__(self, in_channels: int = 3, num_classes: int = 10):\n",
        "        super().__init__()\n",
        "\n",
        "        self.conv1 = ...\n",
        "        self.conv2 = ...\n",
        "\n",
        "        self.fc1 = ...\n",
        "        self.fc2 = ...\n",
        "        self.fc3 = ...\n",
        "\n",
        "\n",
        "    def forward(self, x):\n",
        "        ...\n",
        "\n",
        "        return ...\n",
        "\n",
        "print(LeNet())"
      ]
    },
    {
      "cell_type": "markdown",
      "metadata": {
        "id": "fGj9ISKL-5hZ"
      },
      "source": [
        "# Forward Pass Debug\n",
        "If it can process random data, then you're mostly alright :D"
      ]
    },
    {
      "cell_type": "code",
      "execution_count": null,
      "metadata": {
        "id": "aIFRGVCaMeY7"
      },
      "outputs": [],
      "source": [
        "net = LeNet() # instantiate your net\n",
        "num_params = sum([np.prod(p.shape) for p in net.parameters()])\n",
        "print(f\"Number of parameters : {num_params}\")\n",
        "print('-'*50)"
      ]
    },
    {
      "cell_type": "code",
      "execution_count": null,
      "metadata": {
        "id": "s2OXLXc2TEWm"
      },
      "outputs": [],
      "source": [
        "# test on CIFAR-like shaped data (32x32)\n",
        "\n",
        "X = torch.rand((8, 3, 32, 32))\n",
        "print('output shape for cifar', net(X).shape)"
      ]
    },
    {
      "cell_type": "markdown",
      "metadata": {
        "id": "tLlCXtaH_Lrc"
      },
      "source": [
        "# Let's train on CIFAR-10"
      ]
    },
    {
      "cell_type": "markdown",
      "metadata": {
        "id": "27n3YyGvb7Iz"
      },
      "source": [
        "let's load the dataset"
      ]
    },
    {
      "cell_type": "code",
      "execution_count": null,
      "metadata": {
        "id": "QAX1THll-IgS"
      },
      "outputs": [],
      "source": [
        "mean = (0.4913997551666284, 0.48215855929893703, 0.4465309133731618)\n",
        "std  = (0.24703225141799082, 0.24348516474564, 0.26158783926049628)\n",
        "\n",
        "# Choose the appropriate transforms for the problem at hand\n",
        "# see https://pytorch.org/docs/stable/torchvision/transforms.html\n",
        "transform = transforms.Compose(\n",
        "    [transforms.ToTensor(),\n",
        "     transforms.Normalize(mean, std),\n",
        "    ])\n",
        "\n",
        "trainset = torchvision.datasets.CIFAR10('./data', train=True, download=True, transform=transform)\n",
        "trainloader = torch.utils.data.DataLoader(trainset, batch_size=128, shuffle=True)\n",
        "\n",
        "testset = torchvision.datasets.CIFAR10('./data', train=False, download=True, transform=transform)\n",
        "testloader = torch.utils.data.DataLoader(testset, batch_size=128, shuffle=False)\n",
        "classes = ('plane', 'car', 'bird', 'cat', 'deer', 'dog', 'frog', 'horse', 'ship', 'truck')"
      ]
    },
    {
      "cell_type": "markdown",
      "metadata": {
        "id": "SYWA3fC1b96A"
      },
      "source": [
        "let's plot some sample images"
      ]
    },
    {
      "cell_type": "code",
      "execution_count": null,
      "metadata": {
        "id": "TXeHsX_I_veV"
      },
      "outputs": [],
      "source": [
        "# get some random training images\n",
        "n_imgs = 5\n",
        "images, labels = next(iter(trainloader))\n",
        "images, labels = images[:n_imgs], labels[:n_imgs]\n",
        "\n",
        "fig, ax = plt.subplots(1, n_imgs, sharey=True)\n",
        "\n",
        "for i in range(n_imgs):\n",
        "    # denormalize\n",
        "    img = images[i] * torch.tensor(std).reshape(-1, 1, 1) + torch.tensor(mean).reshape(-1, 1, 1)\n",
        "    ax[i].imshow(img.permute(1, 2, 0))\n",
        "    ax[i].set_title(classes[labels[i]])\n",
        "\n",
        "plt.show()"
      ]
    },
    {
      "cell_type": "code",
      "execution_count": null,
      "metadata": {
        "id": "-7w-ZoDu_ZKd"
      },
      "outputs": [],
      "source": [
        "assert torch.cuda.is_available(), \"Notebook is not configured properly!\"\n",
        "print('Congrats, you\\'re running this code on a', torch.cuda.get_device_name(), 'gpu')\n",
        "device = 'cuda:0'\n",
        "\n",
        "net = LeNet().to(device)\n",
        "\n",
        "# define here the Pytorch objects needed for training\n",
        "crit = ... # loss criterion\n",
        "opt = ... # optimizer\n",
        "epochs = 5"
      ]
    },
    {
      "cell_type": "markdown",
      "metadata": {
        "id": "-Sr1yvITcfNB"
      },
      "source": [
        "### Training loop"
      ]
    },
    {
      "cell_type": "code",
      "execution_count": null,
      "metadata": {
        "id": "wNn2W2ZLKSf9"
      },
      "outputs": [],
      "source": [
        "losses = []\n",
        "accs = []\n",
        "for e in range(epochs):\n",
        "    net.train()\n",
        "\n",
        "    # training loop\n",
        "    for x, y in tqdm(trainloader, desc=f'TRAIN Epoch {e}'):\n",
        "        # forward pass goes here\n",
        "        ...\n",
        "\n",
        "        # optimization\n",
        "        ...\n",
        "\n",
        "    # evaluation loop\n",
        "    acc = 0\n",
        "    net.eval()\n",
        "    # disable grad computation\n",
        "    with torch.no_grad():\n",
        "        for x, y in tqdm(testloader, desc=f'TEST Epoch {e}', leave=False):\n",
        "          ...\n",
        "    ...\n",
        "    accs.append(acc)\n",
        "    print(f\"Accuracy for epoch {e}: {acc}\")"
      ]
    },
    {
      "cell_type": "code",
      "execution_count": null,
      "metadata": {
        "id": "t_9pHqx9pToz"
      },
      "outputs": [],
      "source": [
        "# Let's look at losses and accuracies\n",
        "fig, (ax1, ax2) = plt.subplots(1, 2, figsize=(15, 5))\n",
        "ax1.plot(losses)\n",
        "ax1.set_title(\"Loss\")\n",
        "ax1.set_xlabel(\"Steps\")\n",
        "ax2.plot(accs)\n",
        "ax2.set_title(\"Accuracy\")\n",
        "ax2.set_xlabel(\"Epochs\")\n",
        "\n",
        "plt.show()"
      ]
    }
  ],
  "metadata": {
    "accelerator": "GPU",
    "colab": {
      "provenance": [],
      "include_colab_link": true
    },
    "kernelspec": {
      "display_name": "Python 3 (ipykernel)",
      "language": "python",
      "name": "python3"
    },
    "language_info": {
      "codemirror_mode": {
        "name": "ipython",
        "version": 3
      },
      "file_extension": ".py",
      "mimetype": "text/x-python",
      "name": "python",
      "nbconvert_exporter": "python",
      "pygments_lexer": "ipython3",
      "version": "3.10.10"
    }
  },
  "nbformat": 4,
  "nbformat_minor": 0
}